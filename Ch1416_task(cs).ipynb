{
 "cells": [
  {
   "cell_type": "markdown",
   "metadata": {
    "id": "WXEwMsfUct7U"
   },
   "source": [
    "컴퓨터 기초 지식을 의미하는 CS(Computer science)는<br>\n",
    "코딩 테스트와 함께 기술 면접에서 지원자에게 필수적으로 요구합니다.<br>\n",
    "\n",
    "수업 내용 중 기술 면접에 자주 나오는 질문 3가지와 기본적으로 알아야 할 내용 과제로 선정했습니다.<br>\n",
    "\n",
    "관련 내용에 대해서는 구글링 또는 관련 서적을 통해 상세히 공부하시고<br>\n",
    "답변은 최대한 핵심만 담아 간결하게 작성해주세요<br>\n",
    "\n",
    "기술 블로그를 운영 중이신 경우<br>\n",
    "답변 내용을 기술 블로그에 작성하신 후 링크를 답변에 남겨주셔도 됩니다.<br>"
   ]
  },
  {
   "cell_type": "markdown",
   "metadata": {
    "id": "qoyC9wF-3hvs"
   },
   "source": [
    "-----"
   ]
  },
  {
   "cell_type": "markdown",
   "metadata": {
    "id": "rAD_O3Gmc_43"
   },
   "source": [
    "[문제1]\n",
    "\n",
    "파이썬 2.7 버전과 파이썬 3에서 range 차이를 설명해주세요"
   ]
  },
  {
   "cell_type": "markdown",
   "metadata": {},
   "source": [
    "파이썬 2.7 버전에서 range 함수는 list를 반환한다. 함수가 호출되면 지정된 범위의 숫자를 포함하는 list 객체를 반환한다. 즉 모든 범위의 숫자를 계산하여 list로 만들어 반환한다.   \n",
    "\n",
    "반면 파이썬 3 버전에서 range 함수는 range 객체를 반환한다. 이 객체는 지연 평가(lazy evaluation)를 사용하여 숫자를 생성한다. 즉 range()는 실제 숫자들을 저장하지 않고, 필요할때마다 숫자를 하나씩 생성하는 방식이다. 이 방법은 메모리 효율적이라고 할 수 있다."
   ]
  },
  {
   "cell_type": "markdown",
   "metadata": {},
   "source": [
    "---"
   ]
  },
  {
   "cell_type": "markdown",
   "metadata": {
    "id": "3uK_auXYdgk2"
   },
   "source": [
    "[문제2]\n",
    "\n",
    "Python의 얕은 복사와 깊은 복사에 대해서 설명하세요"
   ]
  },
  {
   "cell_type": "markdown",
   "metadata": {
    "id": "9kvBxa6PdhgA"
   },
   "source": [
    "얕은 복사는 객체를 복사할 때 객체 자체는 새로운 객체를 만들지만, 객체 안에 포함된 내부 객체들은 원본 객체와 같은 참조를 공유하는 방식이다. 한 쪽의 값을 변경하면 다른 쪽도 영향을 받는다.\n",
    "\n",
    "깊은 복사는 객체를 복사할 때 모든 내부 객체까지 완전히 새로 복사된다. 즉, 복사된 객체는 원본 객체와 아무런 참조를 공유하지 않으며, 객체 내부의 모든 요소들도 새로 복사된 객체로 변경된다. 하나의 객체에서 값을 변경해도 다른 객체에 영향을 주지 않는다. 내부 객체들까지 모두 새로 복사하기 때문에 메모리 사용량이 더 많다."
   ]
  }
 ],
 "metadata": {
  "colab": {
   "authorship_tag": "ABX9TyP7YKA5FdtGggYfD74V7SMJ",
   "provenance": []
  },
  "kernelspec": {
   "display_name": "Python 3",
   "name": "python3"
  },
  "language_info": {
   "name": "python"
  }
 },
 "nbformat": 4,
 "nbformat_minor": 0
}
