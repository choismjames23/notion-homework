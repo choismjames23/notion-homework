{
 "cells": [
  {
   "cell_type": "markdown",
   "metadata": {},
   "source": [
    "<span style=\"font-size:100%\">\n",
    "\n",
    "수업은 모두 열심히 들으셨나요?\n",
    "\n",
    "간혹 강의에서 언급되지 않은 내용이 문제로 나올 수 있습니다.<br>\n",
    "그럴땐 강의 내용 외 문제는 구글링을 통해 해결해주세요<br></span>\n",
    "<span style=\"font-size:80%\">\n",
    "(구글링 또한 개발자가 갖쳐야할 역량 중에 하나랍니다 😊)\n",
    "</span>\n",
    "\n",
    "---"
   ]
  },
  {
   "cell_type": "markdown",
   "metadata": {},
   "source": [
    "<span style=\"font-size:80%\">[문제1]<br><br></span>\n",
    "```인터프리트 방식에 대해 설명하고 2개 이상의 장점을 설명해주세요```"
   ]
  },
  {
   "cell_type": "markdown",
   "metadata": {},
   "source": [
    "<span style=\"color:red\">답변</span>"
   ]
  },
  {
   "cell_type": "markdown",
   "metadata": {},
   "source": [
    "인터프리트 방식은 코드 작성 후 전체를 기계어로 번역하는 컴파일이라는 과정을 거치지 않고 작성한 코드를 실행하면 한 줄 씩 읽고 번역 후 한 줄 씩 실행한다\n",
    "\n",
    "각 줄의 번역 속도는 코드 전체를 컴파일 하는 것 보다는 빠르지만 코드 내용이 길어질 경우 실행 속도가 느려질 수 있다.\n",
    "\n",
    "인터프리트 방식의 장점으로는 결과를 빠르게 볼 수 있다는 것이다.\n",
    "코드가 실시간으로 해석되고 실행되기 때문에, 코드를 수정한다 해도 결과를 빠르게 확인할 수 있다.\n",
    "또한 인터프리터는 전체 프로그램을 메모리에 올리지 않고 필요한 부분만 메모리에 로드하여 사용하므로, 메모리 사용이 효율적이다.\n"
   ]
  },
  {
   "cell_type": "markdown",
   "metadata": {},
   "source": [
    "---"
   ]
  },
  {
   "cell_type": "markdown",
   "metadata": {},
   "source": [
    "<span style=\"font-size:80%\">[문제2]<br><br></span>\n",
    "```동적 타입 방식의 장점과 단점을 간략히 설명해주세요```"
   ]
  },
  {
   "cell_type": "markdown",
   "metadata": {},
   "source": [
    "<span style=\"color:red\">답변</span>"
   ]
  },
  {
   "cell_type": "markdown",
   "metadata": {},
   "source": [
    "동적 타입 방식은 변수의 타입이 실행 중에 결정되는 방식이다. 즉 변수에 값을 할당할 때 자료형을 명시하지 않아도 되고, 변수의 타입이 실행중에 자동으로 결정된다.\n",
    "\n",
    "장점으로는 코드 작성 시 타임(용도)에 제한이 없기 때문에 유연성이 높고 효율적이다. 코드가 간단하고 빠르게 개발할 수 있다.\n",
    "\n",
    "하지만 프로그램 실행(Run Time)때 타입(용도)에 문제를 확인할 수 있기 때문에 코드가 길고 복잡할 경우 문제 해결이 쉽지 않다. 타입에 관련된 문제는 코드 작성 시 바로 확인할 수 없고, 프로그램 실행 중에만 발견된다.\n",
    "또한 타입을 실행 중에 결정하기 때문에 타입 검사가 이루어지지 않고 실행 속도가 상대적으로 느려질 수 있다.\n",
    "코드가 커지면 타입에 대한 안정성이 낮아질 수 있다."
   ]
  },
  {
   "cell_type": "markdown",
   "metadata": {},
   "source": [
    "---"
   ]
  },
  {
   "cell_type": "markdown",
   "metadata": {},
   "source": [
    "<span style=\"font-size:80%\">[문제3]<br><br></span>\n",
    "```Python으로 정적타입 방식의 코드를 작성할 수 있는 방법을 구글링을 통해 검색 후 설명해주세요```"
   ]
  },
  {
   "cell_type": "markdown",
   "metadata": {},
   "source": [
    "<span style=\"color:red\">답변</span>"
   ]
  },
  {
   "cell_type": "markdown",
   "metadata": {},
   "source": [
    "타입 힌트(type hint)\n",
    "타입 힌트를 통해 변수나 함수의 타입을 지정할 수 있다. 이를 통해 코드 가독성이 높아지고 타입 관련 오류를 실행 전에 발견할 수 있다. 하지만 타입 힌트만으로는 런타임 오류발생을 방지할 수는 없다. 실제 타입 검사는 런타임 시점에 이루어지기 때문이다.\n",
    "\n",
    "mypy 검사\n",
    "타입 힌트를 검사하여 타입 오류를 찾아주는 정적 타입 검사 도구이다. 하지만 마찬가지고 타입 힌트를 가지고 검사하기 때문에 컴파일 타임에 타입 오류를 잡을 수 있지만, 코드가 실제로 실행될 때는 여전히 동적으로 처리된다."
   ]
  },
  {
   "cell_type": "markdown",
   "metadata": {},
   "source": [
    "---"
   ]
  },
  {
   "cell_type": "markdown",
   "metadata": {},
   "source": [
    "<span style=\"font-size:80%\">[문제4]<br><br></span>\n",
    "```프로세스와 스레드의 차이점을 설명해주세요```"
   ]
  },
  {
   "cell_type": "markdown",
   "metadata": {},
   "source": [
    "<span style=\"color:red\">답변</span>"
   ]
  },
  {
   "cell_type": "markdown",
   "metadata": {},
   "source": [
    "프로세스는 메모리에 할당된 프로그램을 의미하며, 각 프로세스는 고유한 메모리 공간을 가지고 있고, 운영체제에서 독립적으로 실행된다. 프로세스는 다른 프로세스와 독립적으로 실행되므로, 다른 프로세스와 메모리 공유를 하지 않는다. 그래서 프로세스에 오류가 발생해도 다른 프로세스에는 영향을 미치지 않는다. 생성하는데 비교적 많은 자원과 시간이 소모된다.\n",
    "\n",
    "스레드는 프로세스 내에서 실행되는 작은 단위로, 각 스레드는 프로세스 내의 메모리 공간(코드, 데이터 힙)을 공유한다. 그래서 하나의 스레드가 오류가 발생하면 다른 스레드에 영향을 미친다. 여러 스레드는 동일한 프로세스의 메모리 공간을 공유하면서 각각 독립적으로 작업을 수행할 수 있다. 스레드가 더 작은 실행 단위로, 프로세스 내에서 여러 스레드를 만들어 동시에 실행할 수 있다. 상대적으로 적은 자원과 시간으로 생성이 가능하다."
   ]
  },
  {
   "cell_type": "markdown",
   "metadata": {},
   "source": [
    "---"
   ]
  },
  {
   "cell_type": "markdown",
   "metadata": {},
   "source": [
    "<span style=\"font-size:80%\">[문제5]<br><br></span>\n",
    "```Python 2버전대와 3버전대의 차이를 성명해주세요```"
   ]
  },
  {
   "cell_type": "markdown",
   "metadata": {},
   "source": [
    "<span style=\"color:red\">답변</span>"
   ]
  },
  {
   "cell_type": "markdown",
   "metadata": {},
   "source": [
    "가장 먼저 문법 차이가 있다. 대표적으로 print, input 함수에서 차이를 보인다.\n",
    "\n",
    "또한 문자열 처리 방식이 다르다. 2버전대는 문자열을 ASKII로 취급했지만 3버전대는 문자열을 유니코드로 취급한다.\n",
    "\n",
    "정수 나누기에서도 다르다. 2버전대에서는 두 정수를 나누면 정수 결과를 반환했지만 3버전대에서는 두 정수를 나누면 실수 결과를 반환한다. 몫이 실수로 처리된다."
   ]
  },
  {
   "cell_type": "markdown",
   "metadata": {},
   "source": [
    "---"
   ]
  },
  {
   "cell_type": "markdown",
   "metadata": {},
   "source": [
    "<span style=\"font-size:80%\">[문제6]<br><br></span>\n",
    "```Python에서 메모리 관리는 어떻게 이루어지는지 설명해주세요```"
   ]
  },
  {
   "cell_type": "markdown",
   "metadata": {},
   "source": [
    "<span style=\"color:red\">답변</span>"
   ]
  },
  {
   "cell_type": "markdown",
   "metadata": {},
   "source": [
    "파이썬에서는 reference counting 과 garbage collecting 이라는 방법으로 메모리 관리를 한다.\n",
    "\n",
    "reference counting은 객체가 생성될 때마다 그 객체를 참조하는 변수의 개수를 추적하는 방식이다. 객체를 참조하는 변수의 개수가 0이 되면, 해당 객체의 메모리는 자동으로 해제된다.\n",
    "\n",
    "그러나 reference counting 방식은 순환 참조(circular reference)와 같은 특정한 상황에서는 메모리 누수가 발생할 수 있다. 이 때 garbage collection 기능을 사용한다. 순환 참조란 두 개 이상의 객체가 서로를 참조하는 상황을 말한다. 이 때는 객체가 더 사용되지 않더라도 reference counting이 0이 되지 않아 메모리 누수가 발생한다. garbage collecion 기능은 더 이상 사용되지 않는 객체들을 수집하여 메모리에서 제거하는 기능이다.\n",
    "\n",
    "작은 크기의 객체들은 memory pool 이라는 방식을 사용하여 메모리 할당 및 해제를 최적화한다."
   ]
  }
 ],
 "metadata": {
  "language_info": {
   "name": "python"
  }
 },
 "nbformat": 4,
 "nbformat_minor": 2
}
