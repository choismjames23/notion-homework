{
 "cells": [
  {
   "cell_type": "markdown",
   "metadata": {
    "id": "WXEwMsfUct7U"
   },
   "source": [
    "컴퓨터 기초 지식을 의미하는 CS(Computer science)는<br>\n",
    "코딩 테스트와 함께 기술 면접에서 지원자에게 필수적으로 요구합니다.<br>\n",
    "\n",
    "수업 내용 중 기술 면접에 자주 나오는 질문 3가지와 기본적으로 알아야 할 내용 과제로 선정했습니다.<br>\n",
    "\n",
    "관련 내용에 대해서는 구글링 또는 관련 서적을 통해 상세히 공부하시고<br>\n",
    "답변은 최대한 핵심만 담아 간결하게 작성해주세요<br>\n",
    "\n",
    "기술 블로그를 운영 중이신 경우<br>\n",
    "답변 내용을 기술 블로그에 작성하신 후 링크를 답변에 남겨주셔도 됩니다.<br>"
   ]
  },
  {
   "cell_type": "markdown",
   "metadata": {
    "id": "qoyC9wF-3hvs"
   },
   "source": [
    "-----"
   ]
  },
  {
   "cell_type": "markdown",
   "metadata": {
    "id": "rAD_O3Gmc_43"
   },
   "source": [
    "[문제1]\n",
    "\n",
    "객체지향에 대해서 설명해주세요"
   ]
  },
  {
   "cell_type": "markdown",
   "metadata": {},
   "source": [
    "객체 지향은 객체를 기반으로 프로그램을 설계하고 개발하는 프로그래밍 패러다임이다. 현실 세계의 사물을 객체로 보고, 이를 프로그래밍에 응용한다. 객체는 속성(데이터, 변수)과 동작(메소드, 함수)를 가진다. 객체 간의 상호작용을 통해 프로그램이 동작한다.  이는 코드 재사용성이 높고 유지보수가 용이하며, 확장성이 높고 가독성이 좋다는 장점이 있다.  \n",
    "객체지향 프로그래밍의 4가지 원칙은 캡슐화, 상속, 다형성, 추상화가 있다.  \n",
    "캡슐화는 객체의 속성과 메소드를 하나로 묶고, 외부에서 직접 접근하지 못하도록 보호하는 것이다.  \n",
    "상속은 기존 클래스를 재사용하여 새로운 클래스를 만드는 것으로 코드 중복을 줄이고 유지보수를 쉽게 한다.  \n",
    "다형성은 같은 메서드가 서로 다른 클래스에서 다르게 동작할 수 있다는 것이다. 예를들어 메소드 오버라이딩이 있다.  \n",
    "추상화는 불필요한 정보는 숨기고, 핵심적인 기능만 노출하는 개념이다. 공통적인 메소드는 구현하지 않고, 상속받은 클래스에서 구현하는 방법이 있다."
   ]
  },
  {
   "cell_type": "markdown",
   "metadata": {},
   "source": [
    "---"
   ]
  },
  {
   "cell_type": "markdown",
   "metadata": {
    "id": "3uK_auXYdgk2"
   },
   "source": [
    "[문제2]\n",
    "\n",
    "init 메소드에 대해 설명해주세요"
   ]
  },
  {
   "cell_type": "markdown",
   "metadata": {},
   "source": [
    "클래스 생성자 역할을 한다. 객체를 생성할 때 자동으로 실행되며, 인스턴스의 초기 상태를 설정하는 데 사용된다. 즉, 객체에 속성을 명시하는 역할을 한다. 또한 생성자의 역할은 객체 초기화이므로 값을 반환하지 않는다."
   ]
  },
  {
   "cell_type": "markdown",
   "metadata": {},
   "source": [
    "[문제3]\n",
    "\n",
    "클래스 상속에 대해 설명해주세요"
   ]
  },
  {
   "cell_type": "markdown",
   "metadata": {},
   "source": [
    "클래스 상속이란 기존 클래스(부모 클래스, 상위 클래스)의 속성과 매소드를 그대로 물려받아 새로운 클래스(자식 클래스, 하위 클래스)를 만드는 것이다. 코드 재사용성을 높이고 유지보수를 쉽게하기 위해 사용된다. 자식 클래스는 부모 클래스의 모든 속성과 매소드를 자동으로 상속받아 사용할 수 있다.  \n",
    "부모 클래스의 메소드를 자식 클래스에서 재정의 하는 메소드 오버라이딩 기능이 있으며, 하나의 클래스가 여러 부모 클래스를 상속받는 다중 상속 기능도 있다."
   ]
  },
  {
   "cell_type": "markdown",
   "metadata": {},
   "source": [
    "[문제4]\n",
    "\n",
    "클래스 다중 상속과 관련된 MRO에 대해 설명해주세요"
   ]
  },
  {
   "cell_type": "markdown",
   "metadata": {},
   "source": [
    "MRO란 Method Resolution Order의 약자로 매소드 탐색 순서의 의미를 가진다. 파이썬에서 다중 상속 시 어떤 순서로 부모 클래스의 메소드를 탐색할지 정하는 규칙이다. 파이썬은 'C3 선형화' 방식을 사용하여 MRO를 결정한다.  \n",
    "왼쪽에서 오른쪽 순서로 부모 클래스를 탐색한다.\n",
    "(자식 클래스 -> 부모 클래스 -> 조부모 클래스 -> object 순)"
   ]
  },
  {
   "cell_type": "markdown",
   "metadata": {},
   "source": [
    "[문제5]\n",
    "\n",
    "Self는 어떤 키워드 인가요?"
   ]
  },
  {
   "cell_type": "markdown",
   "metadata": {},
   "source": [
    "self는 인스턴스 자신을 가리키는 변수이다. 클래스 내부에서 인스턴스 변수(속성)나 메소드에 접근할 때 사용한다.  \n",
    "인스턴스 메소드를 호출할 때, 파이썬이 자동으로 self를 전달한다. 하지만 메소드 정의 시 self를 직접 써줘야 한다."
   ]
  },
  {
   "cell_type": "markdown",
   "metadata": {},
   "source": [
    "[문제6]\n",
    "\n",
    "ZeroDivisionError,  IndexError 외에 3가지 이상의 파이썬 에러에 대해 설명해주세요"
   ]
  },
  {
   "cell_type": "markdown",
   "metadata": {},
   "source": [
    "1. ZeroDivisionError\n",
    "숫자를 0으로 나누려고 할 때 발생하는 오류  \n",
    "2. IndexError\n",
    "리스트, 튜플 등에서 존재하지 않는 인덱스를 참조할 때 발생하는 오류  \n",
    "3. TypeError\n",
    "잘못된 데이터 타입을 사용할 때 발생하는 오류  \n",
    "4. KeyError\n",
    "딕셔너리에 존재하지 않는 키를 참조할 때 발생하는 오류  \n",
    "5. ValueError\n",
    "함수나 연산에서 잘못된 값을 사용할 때 발생하는 오류\n",
    "6. AttributeError\n",
    "존재하지 않는 속성이나 메소드를 호출할 때 발생하는 오류  \n",
    "7. NameError\n",
    "정의 되지 않은 변수를 참조할 때 발생하는 오류"
   ]
  }
 ],
 "metadata": {
  "colab": {
   "authorship_tag": "ABX9TyP7YKA5FdtGggYfD74V7SMJ",
   "provenance": []
  },
  "kernelspec": {
   "display_name": "Python 3",
   "name": "python3"
  },
  "language_info": {
   "name": "python"
  }
 },
 "nbformat": 4,
 "nbformat_minor": 0
}
