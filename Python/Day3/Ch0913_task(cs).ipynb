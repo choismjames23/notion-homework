{
 "cells": [
  {
   "cell_type": "markdown",
   "metadata": {
    "id": "WXEwMsfUct7U"
   },
   "source": [
    "컴퓨터 기초 지식을 의미하는 CS(Computer science)는<br>\n",
    "코딩 테스트와 함께 기술 면접에서 지원자에게 필수적으로 요구합니다.<br>\n",
    "\n",
    "수업 내용 중 기술 면접에 자주 나오는 질문 3가지와 기본적으로 알아야 할 내용 과제로 선정했습니다.<br>\n",
    "\n",
    "관련 내용에 대해서는 구글링 또는 관련 서적을 통해 상세히 공부하시고<br>\n",
    "답변은 최대한 핵심만 담아 간결하게 작성해주세요<br>\n",
    "\n",
    "기술 블로그를 운영 중이신 경우<br>\n",
    "답변 내용을 기술 블로그에 작성하신 후 링크를 답변에 남겨주셔도 됩니다.<br>"
   ]
  },
  {
   "cell_type": "markdown",
   "metadata": {
    "id": "qoyC9wF-3hvs"
   },
   "source": [
    "-----"
   ]
  },
  {
   "cell_type": "markdown",
   "metadata": {
    "id": "rAD_O3Gmc_43"
   },
   "source": [
    "[문제1]\n",
    "\n",
    "list와 tuple의 주된 차이점은 무엇인가요?"
   ]
  },
  {
   "cell_type": "markdown",
   "metadata": {},
   "source": [
    "list는 가변적, tuple은 불변적\n",
    "따라서 tuple에는 삭제하거나 변경되면 안되는 변수들, 데이터들을 넣어서 읽기 전용으로 사용하기 좋다.\n",
    "list에는 요소가 자주 변경되는 등 데이터를 수정하거나 추가, 삭제가 필요한 경우에 사용한다.\n",
    "\n",
    "위 특징 때문에 사용할 수 있는 메소드의 차이도 발생한다."
   ]
  },
  {
   "cell_type": "markdown",
   "metadata": {},
   "source": [
    "---"
   ]
  },
  {
   "cell_type": "markdown",
   "metadata": {
    "id": "3uK_auXYdgk2"
   },
   "source": [
    "[문제2]\n",
    "\n",
    "Python의 set에 대해 설명해주세요"
   ]
  },
  {
   "cell_type": "markdown",
   "metadata": {},
   "source": [
    "set은 집합과 비슷한 개념을 가진 요소이다. 중괄호{}를 이용하여 만들 수 있다. 중복을 혀용하지 않아서 같은 값을 여러번 저장할 수 없고, 순서가 존재하지 않아서 인덱싱을 지원하지 않는다. 요소를 추가, 삭제할 수는 있다. 또한 합집합, 교집합, 차집합 등의 집합 연산이 가능하다는 특징이 있다."
   ]
  },
  {
   "cell_type": "markdown",
   "metadata": {},
   "source": [
    "---"
   ]
  },
  {
   "cell_type": "markdown",
   "metadata": {},
   "source": [
    "[문제3]\n",
    "\n",
    "Python의 list는 연결리스트(linked list)인가요?"
   ]
  },
  {
   "cell_type": "markdown",
   "metadata": {},
   "source": [
    "파이썬의 list는 동적 배열 구조를 사용한다. 요소들이 연속된 메모리 공간에 저장된다는 의미이다. 동적 배열 기반의 특징은 요소들이 연속된 메모리에 있기 때문에, 인덱스로 접근할 때 빠르게 찾을 수 있다. 하지만 리스트의 크기를 초과하면 새로운 더 큰 배열을 할당하고 기존 요소를 복사해야 한고, 리스트 중간에 요소를 삽입/삭제하면 뒤의 요소들을 이동해야해서 느려질 수 있다는 단점이 있다."
   ]
  },
  {
   "cell_type": "markdown",
   "metadata": {},
   "source": [
    "---"
   ]
  },
  {
   "cell_type": "markdown",
   "metadata": {},
   "source": [
    "\n",
    "[문제4]\n",
    "\n",
    "딕셔너리 자료형에 대해 설명해주세요."
   ]
  },
  {
   "cell_type": "markdown",
   "metadata": {},
   "source": [
    "key 와 value 의 쌍으로 데이터를 저장하는 자료형이다. key는 중복될 수 없으며, 같은 키가 들어오면 가장 마지막 값으로 덮어쓴다. dict는 값을 추가, 삭제, 수정할 수 있다. dict 자료형은 특정 키로 값을 빠르게 조회하고 싶을 때 사용하면 유용하다."
   ]
  },
  {
   "cell_type": "markdown",
   "metadata": {},
   "source": [
    "---"
   ]
  }
 ],
 "metadata": {
  "colab": {
   "authorship_tag": "ABX9TyP7YKA5FdtGggYfD74V7SMJ",
   "provenance": []
  },
  "kernelspec": {
   "display_name": "Python 3",
   "name": "python3"
  },
  "language_info": {
   "name": "python"
  }
 },
 "nbformat": 4,
 "nbformat_minor": 0
}
