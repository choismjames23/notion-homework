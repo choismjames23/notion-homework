{
 "cells": [
  {
   "cell_type": "markdown",
   "metadata": {},
   "source": [
    "<span style=\"font-size:100%\">\n",
    "\n",
    "수업은 모두 열심히 들으셨나요?\n",
    "\n",
    "간혹 강의에서 언급되지 않은 내용이 문제로 나올 수 있습니다.<br>\n",
    "그럴땐 강의 내용 외 문제는 구글링을 통해 해결해주세요<br></span>\n",
    "<span style=\"font-size:80%\">\n",
    "(구글링 또한 개발자가 갖쳐야할 역량 중에 하나랍니다 😊)\n",
    "</span>\n",
    "\n",
    "---"
   ]
  },
  {
   "cell_type": "markdown",
   "metadata": {},
   "source": [
    "<span style=\"font-size:80%\">[문제1]<br><br></span>\n",
    "```주로 작성 중인 코드의 끝을 알리는 기호로 사용되며 파이썬에서 한 줄에 작성된 서로 다른 코드를 구분 지을 때 사용할 수 있는 기호를 골라주세요```\n",
    "\n",
    "1. ' , ' (쉼표)\n",
    "2. ' + ' (더하기 기호)\n",
    "3. ' ; ' (세미콜론)\n",
    "4. ' / ' (슬래시)"
   ]
  },
  {
   "cell_type": "markdown",
   "metadata": {},
   "source": [
    "<span style=\"color:red\">답변</span> :"
   ]
  },
  {
   "cell_type": "markdown",
   "metadata": {},
   "source": [
    "3. ' ; ' (세미콜론)"
   ]
  },
  {
   "cell_type": "markdown",
   "metadata": {},
   "source": [
    "----"
   ]
  },
  {
   "cell_type": "markdown",
   "metadata": {},
   "source": [
    "<span style=\"font-size:80%\">[문제2]<br><br></span>\n",
    "```Python의 PEP 8은 무엇인지 설명하고 PEP 8의 핵심적인 규칙을 1개 이상을 설명해주세요```"
   ]
  },
  {
   "cell_type": "markdown",
   "metadata": {},
   "source": [
    "<span style=\"color:red\">답변</span>"
   ]
  },
  {
   "cell_type": "markdown",
   "metadata": {},
   "source": [
    "PEP 8은 파이썬 코드의 스타일 가이드이다. 코드의 가독성과 일관성을 높이기 위해 프로그래머들이 따를 수 있는 코드 작성 규칙을 정의하고 있다.\n",
    "\n",
    "핵심적인 규칙으로 '들여쓰기(Indentation)'이 있다. 들여쓰기는 코드 블록을 구분하는 중요한 요소이기 때문에, 코드 블록의 경계를 명확히 하기 위해 일관된 들여쓰기가 필요하다. 이때 4개의 공백을 사용하여 들여쓰기를 해야한다. 탭(tab)은 사용하지 않는다."
   ]
  },
  {
   "cell_type": "markdown",
   "metadata": {},
   "source": [
    "----"
   ]
  },
  {
   "cell_type": "markdown",
   "metadata": {},
   "source": [
    "<span style=\"font-size:80%\">[문제3]<br><br></span>\n",
    "```Python에서 \"#\"이 의마하는 것은 무엇인지 설명해주세요```"
   ]
  },
  {
   "cell_type": "markdown",
   "metadata": {},
   "source": [
    "<span style=\"color:red\">답변</span>"
   ]
  },
  {
   "cell_type": "markdown",
   "metadata": {},
   "source": [
    "인터프리터가 코드를 번역할 때 번역하지 않고 넘어가는 주석이다. \n",
    "\n",
    "메모 등을 추가하여 코드의 가독성을 높여주고, 복잡한 부분을 명확히 표시해두어 이해하기 쉽게 만들어준다."
   ]
  },
  {
   "cell_type": "markdown",
   "metadata": {},
   "source": [
    "----"
   ]
  },
  {
   "cell_type": "markdown",
   "metadata": {},
   "source": [
    "<span style=\"font-size:80%\">[문제4]<br><br></span>\n",
    "```Python의 들여쓰기 장점과 기능에 대해 설명해주세요```"
   ]
  },
  {
   "cell_type": "markdown",
   "metadata": {},
   "source": [
    "<span style=\"color:red\">답변</span>"
   ]
  },
  {
   "cell_type": "markdown",
   "metadata": {},
   "source": [
    "파이썬에서 들여쓰기는 단순한 코드 스타일이 아니라 문법적인 요소로, 코드의 블록을 구분하는데 중요한 역할을 한다.\n",
    "\n",
    "들여쓰기를 통해 코드 블록을 구분하고, 코드의 일관성을 높여주며, 구문 오류를 방지할 수 있도록 강제로 들여쓰기를 요구하여 실수로 인한 오류를 줄일 수 있다."
   ]
  },
  {
   "cell_type": "markdown",
   "metadata": {},
   "source": [
    "----"
   ]
  },
  {
   "cell_type": "markdown",
   "metadata": {},
   "source": [
    "<span style=\"font-size:80%\">[문제5]<br><br></span>\n",
    "```print( )문의 기능 및 특징에 대해 설명해주세요```"
   ]
  },
  {
   "cell_type": "markdown",
   "metadata": {},
   "source": [
    "<span style=\"color:red\">답변</span>"
   ]
  },
  {
   "cell_type": "markdown",
   "metadata": {},
   "source": [
    "print() 함수는 인수로 전달된 값을 표준 출력 장치에 출력하는 기능을 한다. 여러 개의 값을 한 번에 출력할 수 있고, 다양한 방식으로 출력할 수 있다.\n",
    "\n",
    "특징으로는 먼저 자동 개행이 있다. 기본적으로 출력 후 자동으로 개행을 추가하므로 다음 출력이 새 줄에서 시작된다.\n",
    "\n",
    "두 번째로 구분자(sperator)가 있다. sep 인자를 사용하여 인자들 사이를 구분해줄 수 있다.\n",
    "\n",
    "세 번째로 끝내는 문자(end)가 있다. end 인자를 사용하여 출력 후 끝내는 문자를 변경할 수 있다.\n",
    "\n",
    "네 번째로 파일로 출력을 할 수 있다. 기본적으로는 화면에 출력하지만, file 인자를 사용하여 출력 결과를 파일로 저장할 수 있다."
   ]
  }
 ],
 "metadata": {
  "language_info": {
   "name": "python"
  }
 },
 "nbformat": 4,
 "nbformat_minor": 2
}
