{
 "cells": [
  {
   "cell_type": "markdown",
   "metadata": {
    "id": "WXEwMsfUct7U"
   },
   "source": [
    "컴퓨터 기초 지식을 의미하는 CS(Computer science)는<br>\n",
    "코딩 테스트와 함께 기술 면접에서 지원자에게 필수적으로 요구합니다.<br>\n",
    "\n",
    "수업 내용 중 기술 면접에 자주 나오는 질문 3가지와 기본적으로 알아야 할 내용 과제로 선정했습니다.<br>\n",
    "\n",
    "관련 내용에 대해서는 구글링 또는 관련 서적을 통해 상세히 공부하시고<br>\n",
    "답변은 최대한 핵심만 담아 간결하게 작성해주세요<br>\n",
    "\n",
    "기술 블로그를 운영 중이신 경우<br>\n",
    "답변 내용을 기술 블로그에 작성하신 후 링크를 답변에 남겨주셔도 됩니다.<br>"
   ]
  },
  {
   "cell_type": "markdown",
   "metadata": {
    "id": "qoyC9wF-3hvs"
   },
   "source": [
    "-----"
   ]
  },
  {
   "cell_type": "markdown",
   "metadata": {
    "id": "rAD_O3Gmc_43"
   },
   "source": [
    "[문제1]\n",
    "\n",
    "Python의 변수 할당 개념을 다른 언어와 비교해 설명해주세요\n"
   ]
  },
  {
   "cell_type": "markdown",
   "metadata": {},
   "source": [
    "파이썬에서 변수는 값을 직접 저장하는 것이 아니라, 객체의 참조(메모리 주소를) 저장한다. 예를 들어 a=10; b=a; print(a is b)를 하면 True를 출력한다. 10이라는 객체가 메모리에 생성되고, a가 이를 가르킨다. b=a 를 하면 b는 값을 복사하는 것이 아니라 같은 객체를 참조하게 된다. 즉 같은 값을 가지는 여러 변수가 있을 때, 실제로는 같은 객체를 공유할 수 있다.  \n",
    "반면 C언어 에서는 변수가 메모리 주소에 직접 값을 저장한다. 위와 같은 예시를 비교하면 b=a를 했을 때 a의 값을 복사해서 새로운 메모리 공간에 저장한다. 즉 다른 메모리 주소를 가진다."
   ]
  },
  {
   "cell_type": "markdown",
   "metadata": {},
   "source": [
    "---"
   ]
  },
  {
   "cell_type": "markdown",
   "metadata": {
    "id": "3uK_auXYdgk2"
   },
   "source": [
    "[문제2]\n",
    "\n",
    "Python의 실수형(float) 계산 시 오차가 발생하는 이유에 대해 간단히 설명해 주세요"
   ]
  },
  {
   "cell_type": "markdown",
   "metadata": {},
   "source": [
    "컴퓨터는 실수를 2진수로 표현한다. 파이썬은 소수를 표현하는 방식이 부동 소수점 방식이다. 부동 소수점 방식은 유효숫자를 나타내는 가수부와 소수점의 위치를 나타내는 지수부로 나누어 표현한다. 하지만 소수들을 2진법으로 표현하면 무한 소수이기 때문에 정확하게 표현할 수가 없다. 무한 소수로 표현하게 되면 메모리 범위를 벗어나게 되므로 유한한 비트 수에서 맞추어 근삿값을 얻게 된다. 그래서 실제 수와 거의 같지만 정확하게 같지는 않고 약간의 오차가 발생한다."
   ]
  },
  {
   "cell_type": "markdown",
   "metadata": {},
   "source": [
    "----"
   ]
  },
  {
   "cell_type": "markdown",
   "metadata": {
    "id": "2Jte2VLKdiPm"
   },
   "source": [
    "[문제3]\n",
    "\n",
    "슬라이싱에 대해 간단히 설명해주세요"
   ]
  },
  {
   "cell_type": "markdown",
   "metadata": {},
   "source": [
    "슬라이싱은 파이썬에서 리스트, 튜플, 문자열등의 시퀀스 자료형에서 특정 구간을 추출하는 방법이다. squence[start:end:step]으로 표현한다. 이때 start 는 슬라이싱을 시작할 인덱스, end 는 슬라이싱을 끝낼 인덱스, step은 인덱스가 증가하는 간격이며 선택적으로 입력한다. 중요한 점은 start 에서는 인덱스 값을 포함하고, end 에서는 인덱스 값을 포함하지 않는다. 예를들어 [2:5] 라고 하면 2번째 인덱스 값부터 5번째 전 인덱스까지를 의미한다. 즉 2,3,4 번 인덱스에 해당하는 값들이다."
   ]
  }
 ],
 "metadata": {
  "colab": {
   "authorship_tag": "ABX9TyP7YKA5FdtGggYfD74V7SMJ",
   "provenance": []
  },
  "kernelspec": {
   "display_name": "Python 3",
   "name": "python3"
  },
  "language_info": {
   "name": "python"
  }
 },
 "nbformat": 4,
 "nbformat_minor": 0
}
